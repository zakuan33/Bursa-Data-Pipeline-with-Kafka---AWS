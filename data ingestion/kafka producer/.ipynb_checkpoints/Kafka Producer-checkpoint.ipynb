{
 "cells": [
  {
   "cell_type": "code",
   "execution_count": 1,
   "id": "57bb54f1-9c61-48c6-8b38-3e6de48acee5",
   "metadata": {},
   "outputs": [
    {
     "name": "stdout",
     "output_type": "stream",
     "text": [
      "Requirement already satisfied: kafka-python in c:\\users\\telet\\anaconda3\\lib\\site-packages (2.2.15)\n"
     ]
    }
   ],
   "source": [
    "!pip install kafka-python"
   ]
  },
  {
   "cell_type": "code",
   "execution_count": 3,
   "id": "083d638c-75e9-4045-b3e5-738ef206345e",
   "metadata": {},
   "outputs": [],
   "source": [
    "import pandas as pd\n",
    "from kafka import KafkaProducer\n",
    "from time import sleep\n",
    "from json import dumps\n",
    "import json\n",
    "import os\n",
    "from dotenv import load_dotenv"
   ]
  },
  {
   "cell_type": "code",
   "execution_count": 9,
   "id": "c38235e8-9407-4359-a800-97e5857e8714",
   "metadata": {},
   "outputs": [],
   "source": [
    "load_dotenv(dotenv_path=\"../.env\")\n",
    "KAFKA_IP = os.getenv(\"KAFKA_BROKER_IP\")\n",
    "BUCKET_NAME = os.getenv(\"S3_BUCKET_NAME\")\n",
    "\n",
    "producer = KafkaProducer(\n",
    "    bootstrap_servers=[KAFKA_IP],\n",
    "    value_serializer=lambda x: dumps(x).encode('utf-8')\n",
    ")"
   ]
  },
  {
   "cell_type": "code",
   "execution_count": 4,
   "id": "4456255f-9cd2-4d0f-bbf7-f9ce4fd31a1b",
   "metadata": {},
   "outputs": [],
   "source": [
    "producer.send('demo_test', value={\"message\": \"Hello Kafka!\"})\n",
    "producer.flush()  "
   ]
  },
  {
   "cell_type": "code",
   "execution_count": 15,
   "id": "3b7b976a-cbe6-434b-acc0-5a4cac9d4721",
   "metadata": {},
   "outputs": [
    {
     "name": "stdout",
     "output_type": "stream",
     "text": [
      "   No CASHTAG              NAME  PRICE  CLOSE   CHG     %CHG    VOLUME  HIGH  \\\n",
      "0   0   $REN3       3REN BERHAD  0.255   0.25  0.01   4.080%   2179100  0.26   \n",
      "1   1   $SEVE    7-ELEVEN M'SIA  1.990   1.99  0.00   0.000%         0  1.99   \n",
      "2   2   $SPEE  99 SPEED MART RE  2.250   2.26 -0.01  -0.440%   2148800  2.26   \n",
      "3   3   $ARNK        A-RANK BHD  0.435   0.44  0.00   0.000%         0  0.45   \n",
      "4   4   $A1AK       A1 A K  KOH  0.245   0.00  0.00   0.000%  21613200  0.26   \n",
      "\n",
      "    LOW        BUY (QTY)       SELL (QTY)  \n",
      "0  0.25   0.250 (495200)   0.255 (138100)  \n",
      "1  1.99      1.980 (500)   2.000 (116900)  \n",
      "2  2.23   2.250 (314500)   2.260 (294400)  \n",
      "3  0.44     0.425 (4500)     0.480 (7000)  \n",
      "4  0.25  0.245 (2661700)  0.250 (5468300)  \n"
     ]
    }
   ],
   "source": [
    "df = pd.read_csv('../bursa scrapper/data/bursa_market_share.csv')\n",
    "df_sample = df.head()\n",
    "\n",
    "print(df_sample)\n",
    "\n",
    "for record in df.to_dict(orient='records'):\n",
    "    key = record['CASHTAG'].encode('utf-8')\n",
    "    producer.send('bursaMarketShare',key=key, value=record)\n",
    "producer.flush()  "
   ]
  },
  {
   "cell_type": "code",
   "execution_count": null,
   "id": "cba31193-96f5-4064-97e7-7c5bba736d52",
   "metadata": {},
   "outputs": [],
   "source": []
  }
 ],
 "metadata": {
  "kernelspec": {
   "display_name": "Python 3 (ipykernel)",
   "language": "python",
   "name": "python3"
  },
  "language_info": {
   "codemirror_mode": {
    "name": "ipython",
    "version": 3
   },
   "file_extension": ".py",
   "mimetype": "text/x-python",
   "name": "python",
   "nbconvert_exporter": "python",
   "pygments_lexer": "ipython3",
   "version": "3.12.4"
  }
 },
 "nbformat": 4,
 "nbformat_minor": 5
}
